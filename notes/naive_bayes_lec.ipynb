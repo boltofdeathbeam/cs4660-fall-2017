{
 "cells": [
  {
   "cell_type": "markdown",
   "metadata": {},
   "source": [
    "# Agenda:\n",
    "### Probabilistic reasoning\n",
    "Bayes theorem\n",
    "    - Cancer test\n",
    "    - Scientific Method: Evolution by natural selection\n",
    "Naive Bayes\n",
    "    - Hidden features: get them from observed features\n",
    "    - Process: Get frequencies of observable features for each class of hidden\n",
    "    features\n",
    "        - Requires a training set where the hidden features are known\n",
    "    - To make a prediction for a new example, given its observable features,\n",
    "    see which hidden class, given the frequencies observed for these features"
   ]
  },
  {
   "cell_type": "markdown",
   "metadata": {},
   "source": [
    "### Probability of a hypothesis:\n",
    "\n",
    "$$ Pr(h|D) $$\n",
    "\n",
    "where $h$ is the hypothesis and $D$ is the data.\n",
    "\n",
    "Often $h$ is a class assignment to an example.\n",
    "\n",
    "Better:\n",
    "\n",
    "$$argmax_{h\\in H} Pr(h|D)$$\n",
    "\n",
    "Where $H$ is a set of hypotheses: we want the $h$ with the higest probability given our data.\n",
    "\n",
    "### Bayes's Theorem\n",
    "\n",
    "Sometimes it's easier to know the probability of the data given a hypothesis (rather than the other way around). That is, sometimes we know this:\n",
    "\n",
    "$$Pr(D|h)$$\n",
    "\n",
    "Example: We don't know whether Feona or Ginger wrote an comment on YouTube, but we know that Feona curses a lot, and Ginger is much more polite. Suppose our data is a comment \n",
    "\n",
    "<span>\"This is so wack! You all need to ##$$@ yourself, #$@@$##!\" </span>\n",
    "\n",
    "Who do you think wrote this? That is, which is:\n",
    "higher: $Pr(Feona|D)$ or $Pr(Ginger|D)$?\n",
    "\n",
    "\n",
    "One thing is sure, we'd expect Feona to say such things, but not Ginger. That is, we know:\n",
    "$Pr(D|Feona) > Pr(D|Ginger)$\n",
    "\n",
    "\n",
    "Thus it would be nice to have something that relates the probabilities above to $Pr(D|Feona)$ or $Pr(D|Ginger)$? Or, more generally:\n",
    "\n",
    "$$Pr(h|D) \\sim Pr(D|h)$$\n",
    "\n",
    "And we do, Baye's Theorem. We get it through these rules:\n",
    "\n",
    "$$Pr(A . B) = Pr(A|B)Pr(B)$$\n",
    "and\n",
    "$$Pr(B . A) = Pr(B|A)Pr(A)$$\n",
    "and \n",
    "$$Pr(A . B) = Pr(B . A)$$\n",
    "\n",
    "Doing some algebra we get Bayes's Theorem:\n",
    "\n",
    "$$Pr(A|B) = \\frac{Pr(B|A)Pr(A)}{Pr(B)}$$\n",
    "\n"
   ]
  },
  {
   "cell_type": "markdown",
   "metadata": {},
   "source": [
    "### Bayesian Learning\n",
    "\n",
    "Algorithm:\n",
    "For each $h \\in H$ calculate \n",
    "    $$ Pr(h|D) = \\frac{Pr(D|h)Pr(h)}{Pr(D)}$$\n",
    "    \n",
    "and find the highest $h$."
   ]
  },
  {
   "cell_type": "code",
   "execution_count": null,
   "metadata": {
    "collapsed": true
   },
   "outputs": [],
   "source": []
  }
 ],
 "metadata": {
  "kernelspec": {
   "display_name": "Python 3",
   "language": "python",
   "name": "python3"
  },
  "language_info": {
   "codemirror_mode": {
    "name": "ipython",
    "version": 3
   },
   "file_extension": ".py",
   "mimetype": "text/x-python",
   "name": "python",
   "nbconvert_exporter": "python",
   "pygments_lexer": "ipython3",
   "version": "3.6.2"
  }
 },
 "nbformat": 4,
 "nbformat_minor": 2
}
