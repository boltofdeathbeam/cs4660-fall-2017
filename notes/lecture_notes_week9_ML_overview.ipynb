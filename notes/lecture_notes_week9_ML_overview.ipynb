{
 "cells": [
  {
   "cell_type": "markdown",
   "metadata": {},
   "source": [
    "# Welcome to Artificial Intelligence, Part II\n",
    "\n",
    "## This module will cover samplers of machine learning and computer vision\n",
    "\n",
    "## Today's agenda\n",
    "* ### Basic concepts of machine learning\n",
    "    * ### Basic terminology\n",
    "    * ### Supervised learning concepts\n",
    "    * ### Unsupervised learning concepts\n",
    "    * ### Some machine learning algorithms\n",
    "* ### Introduction to Jupyter Notebooks\n",
    "* ### Introduction to NumPy\n",
    "* ### Your lab!\n"
   ]
  },
  {
   "cell_type": "markdown",
   "metadata": {},
   "source": [
    "# Machine Learning: The Basic Ideas\n",
    "## Machine learning is a method of data analysis that automates analytical modelbuilding. Using algorithms that iteratively learn from data, machine learningallows computers to find hidden insights without being explicitly programmedwhere to look.\n",
    "\n",
    "* ## It’s used to predict/detect --- Supervised learning\n",
    "* ## It’s used to find patterns --- Unsupervised learning\n",
    "* ## It’s used to compress data/find underlying relationships --- Dimensionality reduction\n",
    "* ## Machine learning: algorithms to find statistical models\n"
   ]
  },
  {
   "cell_type": "markdown",
   "metadata": {
    "collapsed": true
   },
   "source": [
    "# A Few Terms\n",
    "* ## Training example: a member of a data set\n",
    "* ## Feature: an aspect of a training example (aka, independent variable)\n",
    "* ## Feature vector: an array of feature values for a given training example\n",
    "* ## Label (aka, dependent variable, y-value): what we are trying to predict\n",
    "* ## Model: A function that can be used to predict labels given feature vectors"
   ]
  },
  {
   "cell_type": "markdown",
   "metadata": {},
   "source": [
    "# Supervised Learning\n",
    "\n",
    "* ## Data has both feature vectors and labels\n",
    "* ## Creates model to predict labelswhen only feature vector is known\n",
    "* ## Examples: make a model to predict which Enron employees will be prosecuted from  emails; predict housing prices from house features, detect when road curves left, right \n",
    "\n",
    "## Below is a flow chart of the process for supervised learning\n",
    "\n",
    "![supervised learning flowchart](imgs/supervised_learning.jpg)\n",
    "\n",
    "* ## The parts with the blue arrows is the training part of the process. In training, we use labled data and a machine learning algorithm to create a model that can make predictions\n",
    "* ## The parts with the green arrows is the process of using an already trained model to make predictions on new data"
   ]
  },
  {
   "cell_type": "markdown",
   "metadata": {},
   "source": [
    "# Classification versus Regression\n",
    "\n",
    "* ## Classification: The label is a category (nondegreed)\n",
    "* ## Regression: The label is quantitative, degreed\n",
    "* ## A classification example: Predicting iris flower type:\n",
    "  * ## Four features: Petal length and height, sepal length and height\n",
    "  * ## Three kinds: Iris Setosa, Iris Versicolour, Iris Virginica Iris dataset: example used in scikit-learn\n",
    "  \n",
    "  ![](imgs/iris.png)\n",
    "  \n",
    "* ## A regression example: predicting house price from square footage\n",
    "\n",
    "  ![](imgs/houseprice.jpg)\n"
   ]
  },
  {
   "cell_type": "markdown",
   "metadata": {},
   "source": [
    "# Unsupervised Learning\n",
    "\n",
    "* ## The data is not labeled: the dependent variable (output variable) is not known\n",
    "* ## Unsupervised algorithms try to find patterns in data\n",
    "* ## Example: Pizza Hut delivery --- use clustering to find groups in unlabled data\n",
    " ![](imgs/pizzahut.png)\n"
   ]
  },
  {
   "cell_type": "markdown",
   "metadata": {},
   "source": [
    "# Some Algorithms\n",
    "\n",
    "* ## We will be using the scikit-learn machine learning library\n",
    "* ## Here are some of the algorithms it supports, in an advisory flow-chart\n",
    " ![](imgs/ml_map.png)"
   ]
  }
 ],
 "metadata": {
  "kernelspec": {
   "display_name": "Python 2",
   "language": "python",
   "name": "python2"
  },
  "language_info": {
   "codemirror_mode": {
    "name": "ipython",
    "version": 2
   },
   "file_extension": ".py",
   "mimetype": "text/x-python",
   "name": "python",
   "nbconvert_exporter": "python",
   "pygments_lexer": "ipython2",
   "version": "2.7.13"
  }
 },
 "nbformat": 4,
 "nbformat_minor": 2
}
