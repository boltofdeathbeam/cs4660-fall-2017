{
 "cells": [
  {
   "cell_type": "markdown",
   "metadata": {},
   "source": [
    "# Welcome to Artificial Intelligence, Part II\n",
    "\n",
    "## This module will cover samplers of machine learning and computer vision\n",
    "\n",
    "## Today's agenda\n",
    "* Basic concepts of machine learning\n",
    "    * Basic terminology\n",
    "    * Supervised learning concepts\n",
    "    * Unsupervised learning concepts\n",
    "    * Some machine learning algorithms\n",
    "* Introduction to Jupyter Notebooks\n",
    "* Introduction to NumPy\n",
    "* Your lab!\n"
   ]
  },
  {
   "cell_type": "markdown",
   "metadata": {},
   "source": [
    "# Machine Learning: The Basic Ideas\n",
    "## Machine learning is a method of data analysis that automates analytical modelbuilding. Using algorithms that iteratively learn from data, machine learningallows computers to find hidden insights without being explicitly programmedwhere to look.\n",
    "\n",
    "* It’s used to predict/detect --- Supervised learning\n",
    "* It’s used to find patterns --- Unsupervised learning\n",
    "* It’s used to compress data/find underlying relationships --- Dimensionality reduction\n",
    "* Machine learning: algorithms to find statistical models\n"
   ]
  },
  {
   "cell_type": "markdown",
   "metadata": {
    "collapsed": true
   },
   "source": [
    "# A Few Terms\n",
    "* Training example: a member of a data set\n",
    "* Feature: an aspect of a training example (aka, independent variable)\n",
    "* Feature vector: an array of feature values for a given training example\n",
    "* Label (aka, dependent variable, y-value): what we are trying to predict\n",
    "* Model: A function that can be used to predict labels given feature vectors"
   ]
  },
  {
   "cell_type": "markdown",
   "metadata": {},
   "source": [
    "# Supervised Learning\n",
    "\n",
    "* Data has both feature vectors and labels\n",
    "* Creates model to predict labelswhen only feature vector is known\n",
    "* Examples: make a model to predict which Enron employees will be prosecuted from  emails; predict housing prices from house features, detect when road curves left, right \n",
    "\n",
    "## Below is a flow chart of the process for supervised learning\n",
    "\n",
    "![supervised learning flowchart](imgs/supervised_learning.jpg)\n",
    "\n",
    "* The parts with the blue arrows is the training part of the process. In training, we use labled data and a machine learning algorithm to create a model that can make predictions\n",
    "* The parts with the green arrows is the process of using an already trained model to make predictions on new data"
   ]
  },
  {
   "cell_type": "markdown",
   "metadata": {},
   "source": [
    "# Classification versus Regression\n",
    "\n",
    "* Classification: The label is a category (nondegreed)\n",
    "* Regression: The label is quantitative, degreed\n",
    "* A classification example: Predicting iris flower type:\n",
    "  * Four features: Petal length and height, sepal length and height\n",
    "  * Three kinds: Iris Setosa, Iris Versicolour, Iris Virginica Iris dataset: example used in scikit-learn\n",
    "  \n",
    "  ![](imgs/iris.png)\n",
    "  \n",
    "* A regression example: predicting house price from square footage\n",
    "\n",
    "  ![](imgs/houseprice.jpg)\n"
   ]
  },
  {
   "cell_type": "markdown",
   "metadata": {},
   "source": [
    "# Unsupervised Learning\n",
    "\n",
    "* The data is not labeled: the dependent variable (output variable) is not known\n",
    "* Unsupervised algorithms try to find patterns in data\n",
    "* Example: Pizza Hut delivery --- use clustering to find groups in unlabled data\n",
    " ![](imgs/pizzahut.png)\n"
   ]
  },
  {
   "cell_type": "markdown",
   "metadata": {},
   "source": [
    "# Some Algorithms\n",
    "\n",
    "* We will be using the scikit-learn machine learning library\n",
    "* Here are some of the algorithms it supports, in an advisory flow-chart\n",
    " ![](imgs/ml_map.png)"
   ]
  },
  {
   "cell_type": "markdown",
   "metadata": {},
   "source": [
    "# Installing Scientific Computing Frameworks\n",
    "\n",
    "## Using Python from Anaconda\n",
    "* The Anaconda package is here: https://www.anaconda.com/download/#macos\n",
    "* Anaconda includes everything we need for data science, Jupyter, numpy, sci-kit learn, matplotlib, excluding opencv (we will install that later), and deep learning libraries\n",
    "\n",
    "\n"
   ]
  },
  {
   "cell_type": "markdown",
   "metadata": {},
   "source": [
    "# Introduction to Jupyter Notebooks\n",
    "\n",
    "* Jupyter notebooks are a way to do python programming with interactive cells\n",
    "* The cells can be run independently\n",
    "* Jupyter also has markup cells: cells that are used for text, images, diagrems, etc, for presentations or reports\n",
    "* Jupyter allows the rendering of graphs using python code from the code cells\n",
    "* Jupyter comes with Anaconda\n",
    "* Jupyter works with either Python 3 or Python 2\n",
    "* To start Jupyter, just go to the command line and type: jupyter notebook, a webpage at localhost will appear in your browser; that is your jupyter notebook homepage. You can create new notebooks from that page using the very simple and intuitive GUI there\n",
    "* Jupyter programs are served to you via your browser; the server lives at localhost\n",
    "* This document is a Jupyter notebook\n",
    "* See demo of various features of Jupyter\n",
    "* See https://www.cheatography.com/weidadeyue/cheat-sheets/jupyter-notebook/ for a Jupyter cheetsheet\n"
   ]
  },
  {
   "cell_type": "markdown",
   "metadata": {},
   "source": [
    "# Very Brief Intro to Linear Algebra"
   ]
  },
  {
   "cell_type": "markdown",
   "metadata": {},
   "source": [
    "# Introduction to NumPy\n",
    "\n",
    "* NumPy is a package for scientific computing in Python\n",
    "* It is often used for matrix manipulation using its most basic object, the NumPy array\n",
    "* Many machine learning and computer vision libraries use NumPy arrays\n",
    "* NumPy comes with Anaconda, though many people install it with pip as well\n",
    "* see NumPy's quick start tutorial at https://docs.scipy.org/doc/numpy-dev/user/quickstart.html\n",
    "* Let's learn by doing!\n",
    "\n",
    "* First, we need to install Anaconda on your machine\n",
    "\n",
    "for Windows, we will follow the instructions on this site: http://mathalope.co.uk/2015/05/07/opencv-python-how-to-install-opencv-python-package-to-anaconda-windows/\n",
    "\n",
    "** Step by step instructions coming for Windows users!!**\n",
    "\n",
    "* Now that Anaconda is installed and ready"
   ]
  },
  {
   "cell_type": "code",
   "execution_count": 3,
   "metadata": {},
   "outputs": [
    {
     "name": "stdout",
     "output_type": "stream",
     "text": [
      "[1 2 3 4 5]\n",
      "[ 0  1  2  3  4  5  6  7  8  9 10 11]\n"
     ]
    }
   ],
   "source": [
    "# note, I will be using python 2 for this demo\n",
    "# importing numpy with the usual alias\n",
    "import numpy as np\n",
    "\n",
    "a = np.array([1,2,3,4,5])\n",
    "\n",
    "print(a)\n",
    "\n",
    "#array of consecutive numbers\n",
    "a = np.arange(12)\n",
    "\n",
    "print(a)\n"
   ]
  },
  {
   "cell_type": "code",
   "execution_count": 4,
   "metadata": {},
   "outputs": [
    {
     "name": "stdout",
     "output_type": "stream",
     "text": [
      "[ 0  1  2  3  4  5  6  7  8  9 10 11] [ 0  1  2  3  4  5  6  7  8  9 10 11]\n",
      "[ 0  2  4  6  8 10 12 14 16 18 20 22]\n"
     ]
    },
    {
     "data": {
      "text/plain": [
       "array([ 0,  3,  6,  9, 12, 15, 18, 21, 24, 27, 30, 33])"
      ]
     },
     "execution_count": 4,
     "metadata": {},
     "output_type": "execute_result"
    }
   ],
   "source": [
    "#add arrays\n",
    "a = np.arange(12)\n",
    "b = np.arange(12)\n",
    "print (a, b)\n",
    "print (a + b)\n",
    "\n",
    "#multiply by scalar\n",
    "a * 3\n",
    "# note: * does not do dot product in numpy\n"
   ]
  },
  {
   "cell_type": "code",
   "execution_count": 5,
   "metadata": {},
   "outputs": [
    {
     "name": "stdout",
     "output_type": "stream",
     "text": [
      "int64\n",
      "(12,) (12,)\n",
      "12 12\n"
     ]
    }
   ],
   "source": [
    "#get types of elements of array\n",
    "print (a.dtype)\n",
    "#get shape\n",
    "print (a.shape, np.shape(a))\n",
    "#get size\n",
    "print (a.size, np.size(a))"
   ]
  },
  {
   "cell_type": "code",
   "execution_count": 13,
   "metadata": {},
   "outputs": [
    {
     "name": "stdout",
     "output_type": "stream",
     "text": [
      "[[ 1.+0.j  2.+0.j]\n",
      " [ 3.+0.j  4.+0.j]]\n"
     ]
    }
   ],
   "source": [
    "#Using the array constructor\n",
    "a = np.array([2, 3, 4])\n",
    "a.dtype\n",
    "b = np.array([1.2, 3.5, 5.1])\n",
    "b.dtype\n",
    "\n",
    "#The type of the array can also be explicitly specified at \n",
    "#creation time\n",
    "c = np.array([ [1, 2], [3, 4] ], dtype=complex)\n",
    "print(c)\n"
   ]
  },
  {
   "cell_type": "code",
   "execution_count": 29,
   "metadata": {},
   "outputs": [
    {
     "name": "stdout",
     "output_type": "stream",
     "text": [
      "[0 0 0]\n",
      "[1 1 1]\n",
      "a matrix of zeros [[ 0.  0.]\n",
      " [ 0.  0.]\n",
      " [ 0.  0.]]\n",
      "a matrix of ones [[ 1.  1.]\n",
      " [ 1.  1.]\n",
      " [ 1.  1.]]\n",
      "a random matrix\n",
      "[[ 0.32908572  0.90604583  0.01593509]\n",
      " [ 0.52042461  0.14939923  0.55723097]]\n"
     ]
    }
   ],
   "source": [
    "#fill all values in an array\n",
    "a.fill(0)\n",
    "print(a)\n",
    "a[:] = 1\n",
    "print(a)\n",
    "print(\"a matrix of zeros {}\".format(np.zeros((3, 2))))\n",
    "print(\"a matrix of ones {}\".format(np.ones((3, 2))))\n",
    "\n",
    "#a random matrix\n",
    "print(\"a random matrix\")\n",
    "r = np.random.rand(2, 3)\n",
    "print(r)"
   ]
  },
  {
   "cell_type": "code",
   "execution_count": 42,
   "metadata": {},
   "outputs": [
    {
     "name": "stdout",
     "output_type": "stream",
     "text": [
      "[  0.  10.  20.  30.  40.  50.]\n",
      "[ 0.         -0.54402111  0.91294525 -0.98803162  0.74511316 -0.26237485]\n"
     ]
    }
   ],
   "source": [
    "#fill all values in an array cont\n",
    "#6 numbers from 0 to 50\n",
    "x = np.linspace(0, 50, 6)\n",
    "print(x)\n",
    "# use a math function to transform\n",
    "print(np.sin(x))"
   ]
  },
  {
   "cell_type": "code",
   "execution_count": 48,
   "metadata": {},
   "outputs": [
    {
     "name": "stdout",
     "output_type": "stream",
     "text": [
      "[0 1 2 3 4 5]\n",
      "[[ 0  1  2]\n",
      " [ 3  4  5]\n",
      " [ 6  7  8]\n",
      " [ 9 10 11]]\n",
      "[ 1  3  5  7  9 11]\n"
     ]
    }
   ],
   "source": [
    "# arange\n",
    "a = np.arange(6)\n",
    "print(a)\n",
    "b = np.arange(12).reshape(4,3)\n",
    "print(b)\n",
    "# won't work: print(b.reshape(5,5))\n",
    "\n",
    "# first arg, beg(incl), second, end(non-incl), third, step\n",
    "c = np.arange(1, 13, 2)\n",
    "print(c)\n"
   ]
  },
  {
   "cell_type": "markdown",
   "metadata": {},
   "source": [
    "Basic operations"
   ]
  },
  {
   "cell_type": "code",
   "execution_count": 50,
   "metadata": {},
   "outputs": [
    {
     "name": "stdout",
     "output_type": "stream",
     "text": [
      "[20 30 40 50]\n",
      "[0 1 2 3]\n",
      "[20 29 38 47]\n",
      "[0 1 4 9]\n",
      "[ 9.12945251 -9.88031624  7.4511316  -2.62374854]\n",
      "[ True  True False False]\n",
      "[22 32 42 52]\n"
     ]
    }
   ],
   "source": [
    "a = np.array( [20, 30, 40, 50] )\n",
    "print(a)\n",
    "b = np.arange(4)\n",
    "print(b)\n",
    "c = a-b\n",
    "print(c)\n",
    "print(b**2)\n",
    "print(10 * np.sin(a))\n",
    "print(a < 35)\n",
    "a += 2\n",
    "print(a)"
   ]
  },
  {
   "cell_type": "markdown",
   "metadata": {},
   "source": [
    "Slicing"
   ]
  },
  {
   "cell_type": "code",
   "execution_count": 11,
   "metadata": {},
   "outputs": [
    {
     "name": "stdout",
     "output_type": "stream",
     "text": [
      "[ 2  3  4  5  6  7  8  9 10 11 12 13 14 15 16 17 18 19 20 21 22 23 24 25 26\n",
      " 27 28 29]\n",
      "[28 29]\n",
      "[ 2  4  6  8 10 12 14 16 18 20 22 24 26 28]\n"
     ]
    }
   ],
   "source": [
    "a = np.arange(2, 30)\n",
    "print(a)\n",
    "#last 2 elements\n",
    "print(a[-2:])\n",
    "#every other element\n",
    "#the syntax: [first:last:step]\n",
    "# if blank, assume first all the way to and including the end\n",
    "print(a[::2])"
   ]
  },
  {
   "cell_type": "code",
   "execution_count": 10,
   "metadata": {},
   "outputs": [
    {
     "name": "stdout",
     "output_type": "stream",
     "text": [
      "[[2 0]\n",
      " [0 4]]\n",
      "[[5 4]\n",
      " [3 4]]\n"
     ]
    }
   ],
   "source": [
    "a = np.array( [[1, 1], [0, 1]] )\n",
    "b = np.array( [[2, 0], [3, 4]] )\n",
    "print(a * b)   # elementwise product \n",
    "print(a.dot(b)) # matrix product"
   ]
  },
  {
   "cell_type": "code",
   "execution_count": 46,
   "metadata": {},
   "outputs": [
    {
     "data": {
      "text/plain": [
       "'float64'"
      ]
     },
     "execution_count": 46,
     "metadata": {},
     "output_type": "execute_result"
    }
   ],
   "source": [
    "#upcasting to a more general type\n",
    "a = np.ones(3, dtype=np.int32) #dtype int32\n",
    "\n",
    "#using type coercion\n",
    "b = np.linspace(0, np.pi, 3)\n",
    "b.dtype.name #'float64'\n",
    "c = a + b\n",
    "c.dtype.name #'float64'"
   ]
  },
  {
   "cell_type": "code",
   "execution_count": null,
   "metadata": {
    "collapsed": true
   },
   "outputs": [],
   "source": []
  }
 ],
 "metadata": {
  "kernelspec": {
   "display_name": "Python 3",
   "language": "python",
   "name": "python3"
  },
  "language_info": {
   "codemirror_mode": {
    "name": "ipython",
    "version": 3
   },
   "file_extension": ".py",
   "mimetype": "text/x-python",
   "name": "python",
   "nbconvert_exporter": "python",
   "pygments_lexer": "ipython3",
   "version": "3.6.2"
  }
 },
 "nbformat": 4,
 "nbformat_minor": 2
}
